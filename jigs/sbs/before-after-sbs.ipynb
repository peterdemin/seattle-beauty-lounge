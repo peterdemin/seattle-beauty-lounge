{
 "cells": [
  {
   "cell_type": "code",
   "execution_count": null,
   "id": "961f4051-71f4-46f9-b74b-b5e46eb3fa7b",
   "metadata": {},
   "outputs": [],
   "source": [
    "%%bash\n",
    "pip install pillow numpy"
   ]
  },
  {
   "cell_type": "code",
   "execution_count": null,
   "id": "6f59e897-f6a6-46e4-bf0c-705d193c0fcb",
   "metadata": {},
   "outputs": [],
   "source": [
    "from pathlib import Path\n",
    "import numpy as np\n",
    "from PIL import Image, ImageDraw, ImageFont\n",
    "\n",
    "OUT = Path(\"skin_before_after_captioned.jpg\")            # final result\n",
    "\n",
    "# LOAD IMAGE & FIND THE Two photo REGIONS (simple threshold + split)\n",
    "img  = Image.open(Path(\"~/Downloads/procell1.jpg\").expanduser())\n",
    "arr = np.array(img.convert(\"L\"))\n",
    "print(f\"Image size is {arr.shape}\")\n",
    "ys, xs = np.where(arr < 200)                # “not-white” ≈ photo content\n",
    "print(list(map(int, [ys.min(), ys.max(), xs.min(), xs.max()])))\n",
    "# img"
   ]
  },
  {
   "cell_type": "code",
   "execution_count": null,
   "id": "cdeb75a2-ede6-4b22-ba57-458b1af74b0a",
   "metadata": {},
   "outputs": [],
   "source": [
    "mid_y  = (ys.min() + ys.max()) // 2         # halfway down the collage\n",
    "\n",
    "# restrict search to the right half where the photos live\n",
    "x_lo, x_hi = 480, xs.max()\n",
    "\n",
    "def bbox(idx):\n",
    "    inset = 1\n",
    "    y, x = ys[idx], xs[idx]\n",
    "    return (x.min() + inset, y.min() + inset, x.max() - inset, y.max() - inset)\n",
    "\n",
    "before_box = bbox((ys < mid_y)  & (xs > x_lo) & (xs < x_hi))\n",
    "after_box  = bbox((ys >= mid_y) & (xs > x_lo) & (xs < x_hi))\n",
    "\n",
    "before_img = img.crop(before_box)\n",
    "after_img  = img.crop(after_box)"
   ]
  },
  {
   "cell_type": "code",
   "execution_count": null,
   "id": "510f580f-b791-45ba-bb8a-87bcc8d770b1",
   "metadata": {},
   "outputs": [],
   "source": [
    "# 2) STITCH PHOTOS SIDE-BY-SIDE (no text)\n",
    "canvas_w = before_img.width + after_img.width\n",
    "canvas_h = min(before_img.height, after_img.height)\n",
    "canvas_h = canvas_w * 9 // 16\n",
    "offset = (canvas_h - min(before_img.height, after_img.height)) // 2\n",
    "canvas = Image.new(\"RGB\", (canvas_w, canvas_h), \"white\")\n",
    "canvas.paste(before_img, (0, offset + 50))\n",
    "canvas.paste(after_img,  (before_img.width, offset - 50))\n",
    "\n",
    "FONT_SIZE  = 64\n",
    "draw = ImageDraw.Draw(canvas)\n",
    "font = ImageFont.truetype(\"/System/Library/Fonts/Helvetica.ttc\", FONT_SIZE)\n",
    "\n",
    "y_text  = canvas_h - FONT_SIZE // 2\n",
    "draw.text((canvas_w // 4,       y_text), \"before\", anchor=\"mm\", font=font, fill=\"white\")\n",
    "draw.text((canvas_w * 3 // 4,   y_text), \"after\",  anchor=\"mm\", font=font, fill=\"white\")\n",
    "\n",
    "canvas"
   ]
  },
  {
   "cell_type": "code",
   "execution_count": null,
   "id": "8643d669-1a48-4834-8c63-9f49b2e21004",
   "metadata": {},
   "outputs": [],
   "source": [
    "canvas.save(OUT)\n",
    "print(OUT.resolve())"
   ]
  }
 ],
 "metadata": {
  "kernelspec": {
   "display_name": "Python 3 (ipykernel)",
   "language": "python",
   "name": "python3"
  },
  "language_info": {
   "codemirror_mode": {
    "name": "ipython",
    "version": 3
   },
   "file_extension": ".py",
   "mimetype": "text/x-python",
   "name": "python",
   "nbconvert_exporter": "python",
   "pygments_lexer": "ipython3",
   "version": "3.12.8"
  }
 },
 "nbformat": 4,
 "nbformat_minor": 5
}
